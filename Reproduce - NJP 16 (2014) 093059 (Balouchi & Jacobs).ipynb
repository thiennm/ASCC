{
 "cells": [
  {
   "cell_type": "markdown",
   "metadata": {},
   "source": [
    "# Optimal measurement-based feedback control for a single qubit: a candidate protocol\n",
    "Ashkan Balouchi and Kurt Jacobs"
   ]
  },
  {
   "cell_type": "code",
   "execution_count": 3,
   "metadata": {
    "collapsed": true
   },
   "outputs": [],
   "source": [
    "%matplotlib inline\n",
    "import matplotlib.pyplot as plt\n",
    "from qutip.cy.spmatfuncs import (cy_expect_rho_vec, spmv)\n",
    "import numpy as np\n",
    "import math\n",
    "from qutip import *"
   ]
  },
  {
   "cell_type": "markdown",
   "metadata": {},
   "source": [
    "### Implementation in QuTiP"
   ]
  },
  {
   "cell_type": "markdown",
   "metadata": {},
   "source": [
    "The stochastic master equation on the form (eq. 4):\n",
    "\n",
    "$$ d\\rho_c(t) = -i[H(t), \\rho_c(t)] dt + \\frac{\\gamma}{2}\\mathcal{D}[\\sigma]\\rho_c(t) dt + \\mathcal{D}[c]\\rho_c(t) dt + \\mathcal{H}[c]\\rho_c(t) dW,$$\n",
    "\n",
    "where $c = \\sqrt{2k}\\sigma_m$ is the dissipation operator associated with the observable. And,\n",
    "\n",
    "$$\\mathcal{D}[c]\\rho = c \\rho c^\\dagger - \\frac{1}{2}(c^\\dagger c \\rho + \\rho c^\\dagger c)$$\n",
    "\n",
    "$$\\mathcal{H}[c]\\rho = c \\rho  + \\rho c^\\dagger - \\langle c + c^\\dagger \\rangle \\rho$$\n",
    "\n",
    "This equation can be implemented by $D_1$ and $D_2$ callback functions in stochastic master equation."
   ]
  },
  {
   "cell_type": "markdown",
   "metadata": {},
   "source": [
    "# The control model"
   ]
  },
  {
   "cell_type": "markdown",
   "metadata": {},
   "source": [
    "Control Hamiltonian:\n",
    "$$H(t) =  sgn[\\theta(t)](\\omega/2)\\sigma_y$$\n",
    "where\n",
    "$$\\theta = arctan(a_x/a_z)$$\n",
    "Measurement operator:\n",
    "$$\\sigma_m = sin(\\alpha) \\sigma_x - cos(\\alpha) \\sigma_z $$\n",
    "where\n",
    "$$\\alpha = c_0 + c_1\\theta(t)$$\n",
    "\n",
    "$$c_0 = \\begin{cases}\n",
    "0 & \\omega < 45k \\\\    \\pi/2 & \\omega > 45k\n",
    "\\end{cases}$$\n",
    "\n",
    "$$c_1 = -A -B\\left[ 1- e^{-r\\omega/k}\\right]$$\n",
    "A and B are control parameters given by Table 1"
   ]
  },
  {
   "cell_type": "code",
   "execution_count": 32,
   "metadata": {},
   "outputs": [
    {
     "name": "stdout",
     "output_type": "stream",
     "text": [
      "Total run time:  21.79s\n"
     ]
    }
   ],
   "source": [
    "# Parameters\n",
    "k = 1.0 # normalization\n",
    "gamma = 0.1 #thermal noise\n",
    "\n",
    "# Simulation time\n",
    "tlist = np.linspace(0,1,1001)\n",
    "\n",
    "# qubit Pauli operators\n",
    "sm1 = sigmam()\n",
    "sz1 = sigmaz()\n",
    "sy1 = sigmay()\n",
    "sx1 = sigmax()\n",
    "\n",
    "# Qubit Hamiltonian\n",
    "H = 0.0*sz1\n",
    "\n",
    "\n",
    "\n",
    "# Initial measurement operator\n",
    "theta0 = 0.5*math.pi\n",
    "c0 = 0.0\n",
    "A = 0.5\n",
    "B = 0.186\n",
    "r = 0.476\n",
    "omega = 20*k\n",
    "c1 = -A -B*(1 - math.exp(-r*omega/k))\n",
    "alpha = c0 + c1*theta0\n",
    "sigmaM = np.sin(alpha)*sx1 - np.cos(alpha)*sz1\n",
    "c = np.sqrt(2.0)*sigmaM\n",
    "\n",
    "# Thermal noise\n",
    "L_th = np.sqrt(gamma)*sm1\n",
    "\n",
    "# Measurement channel\n",
    "L_m = np.sqrt(gamma)*sm1\n",
    "\n",
    "# Expectation Bloch operators\n",
    "Ex = sx1\n",
    "Ey = sy1\n",
    "Ez = sz1\n",
    "\n",
    "# No deterministic dissipation\n",
    "c_ops = [L_th]\n",
    "\n",
    "# Stochastic (monitored channel)\n",
    "sc_ops = [sx1] #just add a dumpy one, we do not use it\n",
    "\n",
    "# intial state: random state\n",
    "psi0 = 0.5*(0.5*sx1 + qeye(2))\n",
    "\n",
    "# (A) superoperator definition \n",
    "#     A[0] = spre(a) = A_L : Multiply on the left\n",
    "#     A[1] = spost(a) = A_R : Multiply on the right\n",
    "#     A[2] = spre(a.dag()) = Ad_L : Adjoint and Multiply on the left\n",
    "#     A[3] = spost(a.dag()) = Ad_R: Adjoint and Multiply on the right\n",
    "#     A[4] = spre(a.dag() * a) = (Ad A)_L: Multiply on the left by L^\\dagger L\n",
    "#     A[5] = spost(a.dag() * a) = (Ad A)_R: Multiply on the right by L^\\dagger L\n",
    "#     A[6] = (spre(a) * spost(a.dag()) = A_L * Ad_R: Multiply on the left by L and multiply on the right by L^\\dagger\n",
    "#     A[7] = lindblad_dissipator(a): Full Lindblad operator: L * rho * L.dag() - 0.5 * L.dag()*L*rho - 0.5 * rho * L.dag()*L\n",
    "\n",
    "# Feedback Calculation\n",
    "\n",
    "# D1 and D2 definitions for stochastic homodyne detection\n",
    "# D1: Deterministic part with feedback Hamiltonia\n",
    "def d1_rho_func(t, rho_vec, A, args): \n",
    "    # Expected values (filtered) of Bloch vector components\n",
    "    xH = cy_expect_rho_vec(spre(sx1).data, rho_vec, 1)\n",
    "    yH = cy_expect_rho_vec(spre(sy1).data, rho_vec, 1)\n",
    "    zH = cy_expect_rho_vec(spre(sz1).data, rho_vec, 1)\n",
    "    # Compute the angle\n",
    "    thetaH = math.atan(xH/(zH-1e-12)) #add a small number to prevent division by 0 \n",
    "    # Compute the feedback Hamiltonian\n",
    "    H_fb = -np.sign(thetaH)*(omega/2)*sy1\n",
    "    # Compute the measurement operator\n",
    "    alpha_fb = c0 + c1*thetaH\n",
    "    sigmaM_fb = np.sin(alpha_fb)*sx1 - np.cos(alpha_fb)*sz1\n",
    "    op_t = liouvillian(H_fb, [np.sqrt(2.0*k)*sigmaM_fb]).data\n",
    "    return spmv(op_t, rho_vec)\n",
    "\n",
    "# D2: Stochastic part\n",
    "def d2_rho_func(t, rho_vec, A, args):\n",
    "    xH = cy_expect_rho_vec(spre(sx1).data, rho_vec, 1)\n",
    "    yH = cy_expect_rho_vec(spre(sy1).data, rho_vec, 1)\n",
    "    zH = cy_expect_rho_vec(spre(sz1).data, rho_vec, 1)\n",
    "    thetaH = math.atan(xH/(zH-1e-12))\n",
    "    alpha_fb = c0 + c1*thetaH\n",
    "    sigmaM_fb = np.sin(alpha_fb)*sx1 - np.cos(alpha_fb)*sz1\n",
    "    c_fb = np.sqrt(2.0*k)*sigmaM_fb\n",
    "    n_sum = spre(c_fb).data + spost(c_fb.dag()).data\n",
    "    e1 = cy_expect_rho_vec(n_sum, rho_vec, False)\n",
    "    return [n_sum * rho_vec - e1 * rho_vec]\n",
    "\n",
    "\n",
    "\n",
    "e_ops = [Ex, Ey, Ez]\n",
    "m_ops = [[Ex]]\n",
    "ntraj = 1 \n",
    "nsubsteps = 10\n",
    "\n",
    "\n",
    "#fresh run, new noise generated\n",
    "result = smesolve(H, psi0, tlist, c_ops, sc_ops, e_ops, ntraj=ntraj, nsubsteps=nsubsteps,d1=d1_rho_func,\n",
    "                  d2=d2_rho_func, distribution='normal', m_ops=m_ops, dW_factors=[1.0],\n",
    "                  store_measurement=False)\n",
    "\n",
    "#fixing the noise, using the noise from previous run\n",
    "#result = smesolve(H, psi0, tlist, c_ops, sc_ops, e_ops, ntraj=ntraj, nsubsteps=nsubsteps,d1=d1_rho_func, d2=d2_rho_func, distribution='normal', m_ops=m_ops, dW_factors=[sqrt(1/kappa)],store_measurement=True, noise=result.noise)"
   ]
  },
  {
   "cell_type": "markdown",
   "metadata": {},
   "source": [
    "# First Plot: Bloch vector components"
   ]
  },
  {
   "cell_type": "code",
   "execution_count": 34,
   "metadata": {},
   "outputs": [
    {
     "data": {
      "text/plain": [
       "<matplotlib.text.Text at 0xc82d390>"
      ]
     },
     "execution_count": 34,
     "metadata": {},
     "output_type": "execute_result"
    },
    {
     "data": {
      "image/png": "[encoded data removed]",
      "text/plain": [
       "<matplotlib.figure.Figure at 0xb4b5d68>"
      ]
     },
     "metadata": {},
     "output_type": "display_data"
    }
   ],
   "source": [
    "#Plotting the results \n",
    "fig, axes = plt.subplots(1,1, figsize=(10,6))\n",
    "\n",
    "# Plot 1: expectation Bloch vector\n",
    "n_1 = result.expect[0]\n",
    "n_2 = result.expect[1]\n",
    "n_3 = result.expect[2]\n",
    "thetaR = np.zeros(n_1.size)\n",
    "for i in range(0, n_1.size):\n",
    "    thetaR[i] = math.atan(n_1[i]/(n_3[i] + 1e-12))/(math.pi)\n",
    "axes.plot(tlist, n_1,'r',label=\"<X>\")\n",
    "axes.plot(tlist, n_2,'g',label=\"<Y>\")\n",
    "axes.plot(tlist, n_3,'b',label=\"<Z>\")\n",
    "axes.plot(tlist, thetaR,'k',label=r'$\\theta/\\pi$')\n",
    "axes.legend(loc=0)\n",
    "axes.set_xlim([tlist[0], tlist[tlist.size - 1]])\n",
    "axes.set_xlabel('Time', fontsize=12)\n",
    "axes.set_ylabel('Expectation', fontsize=12)\n",
    "axes.set_title('Bloch-vector components', fontsize=12)"
   ]
  },
  {
   "cell_type": "code",
   "execution_count": null,
   "metadata": {
    "collapsed": true
   },
   "outputs": [],
   "source": []
  }
 ],
 "metadata": {
  "kernelspec": {
   "display_name": "Python 3",
   "language": "python",
   "name": "python3"
  },
  "language_info": {
   "codemirror_mode": {
    "name": "ipython",
    "version": 3
   },
   "file_extension": ".py",
   "mimetype": "text/x-python",
   "name": "python",
   "nbconvert_exporter": "python",
   "pygments_lexer": "ipython3",
   "version": "3.6.0"
  }
 },
 "nbformat": 4,
 "nbformat_minor": 2
}
